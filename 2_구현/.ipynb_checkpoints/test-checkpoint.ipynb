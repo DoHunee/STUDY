{
 "cells": [
  {
   "cell_type": "code",
   "execution_count": 33,
   "metadata": {},
   "outputs": [],
   "source": [
    "'''\n",
    "보 설치 조건 : 한쪽 끝 부분이 기둥 위에 있거나, \n",
    "양쪽 끝 부분이 다른 보와 동시에 연결되어 있거나 \n",
    "-> (y>0 and piller[x][y-1]) or (y>0 and x<n and piller[x+1][y-1]) or (bo[x-1][y] and bo[x+1][y])\n",
    "'''\n",
    "def bo_check(x, y, bo, piller):\n",
    "    n = len(bo)\n",
    "    if (y>0 and piller[x][y-1]) or (y>0 and x<n and piller[x+1][y-1]) or (bo[x-1][y] and bo[x+1][y]):\n",
    "        return True\n",
    "    return False\n"
   ]
  },
  {
   "cell_type": "code",
   "execution_count": 34,
   "metadata": {},
   "outputs": [],
   "source": [
    "'''\n",
    "기둥 설치 조건 \n",
    ": 바닥 위에 있거나, 보의 한쪽 끝 부분 위에 있거나, \n",
    "또다른 기둥 위에 있거나 \n",
    "-> bo[x][y] or (x > 0 and bo[x - 1][y]) or y == 0 or piller[x][y - 1]\n",
    "'''\n",
    "def piller_check(x, y, bo, piller):\n",
    "    if bo[x][y] or (x > 0 and bo[x - 1][y]) or y == 0 or piller[x][y - 1]:\n",
    "        return True\n",
    "    return False\n"
   ]
  },
  {
   "cell_type": "code",
   "execution_count": 35,
   "metadata": {},
   "outputs": [],
   "source": [
    "'''\n",
    "보의 존재 유무를 이차원 배열 bo에 저장한다. \n",
    "bo [x][y]=True라면 (x,y)에 보가 존재하는 것\n",
    "\n",
    "기둥의 존재 유무를 이차원 배열 piller에 저장한다. \n",
    "piller[x][y]=True라면 (x,y)에 기둥이 존재하는 것 \n",
    "'''\n",
    "\n",
    "def delete_check(bo, piller):\n",
    "    n = len(bo)\n",
    "    for x in range(n):\n",
    "        for y in range(n):\n",
    "            if bo[x][y] and not bo_check(x, y, bo, piller):\n",
    "                return False\n",
    "            if piller[x][y] and not piller_check(x, y, bo, piller):\n",
    "                return False\n",
    "    return True\n"
   ]
  },
  {
   "cell_type": "code",
   "execution_count": 37,
   "metadata": {},
   "outputs": [],
   "source": [
    "def solution(n, build_frame):\n",
    "    ## 배열판 작성 \n",
    "    piller = [[0]*(n+1) for _ in range(n+1)]\n",
    "    bo = [[0]*(n+1) for _ in range(n+1)]\n",
    "    \n",
    "    \n",
    "    for x, y, a, b in build_frame:  ### 반복문 이렇게도 작성한다!!!!\n",
    "        \n",
    "        # 추가한다!!!\n",
    "        if b == 1: \n",
    "            if a == 1: # 보\n",
    "                if bo_check(x, y, bo, piller):\n",
    "                    bo[x][y] = 1\n",
    "            \n",
    "            elif a == 0: ##기둥\n",
    "                if piller_check(x, y, bo, piller):\n",
    "                    piller[x][y] = 1\n",
    "        \n",
    "        ##삭제한다\n",
    "        else:  \n",
    "            if a == 1:  ##보\n",
    "                bo[x][y] = 0\n",
    "                if not delete_check(bo, piller):\n",
    "                    bo[x][y] = 1\n",
    "            \n",
    "            elif a == 0:  ##기둥\n",
    "                piller[x][y] = 0\n",
    "                if not delete_check(bo, piller):\n",
    "                    piller[x][y] = 1\n",
    "\n",
    "    answer = []\n",
    "    for i in range(n+1):\n",
    "        for j in range(n+1):\n",
    "            if piller[i][j]:\n",
    "                answer.append([i, j, 0])\n",
    "            if bo[i][j]:\n",
    "                answer.append([i, j, 1])\n",
    "    return answer"
   ]
  },
  {
   "cell_type": "code",
   "execution_count": 40,
   "metadata": {},
   "outputs": [],
   "source": [
    "build_frame = [[1,0,0,1],\n",
    "              [1,1,1,1],\n",
    "              [2,1,0,1],\n",
    "               \n",
    "              [2,2,1,1],\n",
    "              [5,0,0,1],\n",
    "              [5,1,0,1],\n",
    "              [4,2,1,1],\n",
    "               \n",
    "              [3,2,1,1],\n",
    "              ]"
   ]
  },
  {
   "cell_type": "code",
   "execution_count": 41,
   "metadata": {},
   "outputs": [
    {
     "data": {
      "text/plain": [
       "[[1, 0, 0],\n",
       " [1, 1, 1],\n",
       " [2, 1, 0],\n",
       " [2, 2, 1],\n",
       " [3, 2, 1],\n",
       " [4, 2, 1],\n",
       " [5, 0, 0],\n",
       " [5, 1, 0]]"
      ]
     },
     "execution_count": 41,
     "metadata": {},
     "output_type": "execute_result"
    }
   ],
   "source": [
    "solution(n, build_frame)"
   ]
  },
  {
   "cell_type": "code",
   "execution_count": null,
   "metadata": {},
   "outputs": [],
   "source": []
  },
  {
   "cell_type": "code",
   "execution_count": null,
   "metadata": {},
   "outputs": [],
   "source": []
  },
  {
   "cell_type": "code",
   "execution_count": null,
   "metadata": {},
   "outputs": [],
   "source": []
  },
  {
   "cell_type": "code",
   "execution_count": null,
   "metadata": {},
   "outputs": [],
   "source": []
  },
  {
   "cell_type": "code",
   "execution_count": null,
   "metadata": {},
   "outputs": [],
   "source": []
  },
  {
   "cell_type": "code",
   "execution_count": null,
   "metadata": {},
   "outputs": [],
   "source": []
  },
  {
   "cell_type": "code",
   "execution_count": null,
   "metadata": {},
   "outputs": [],
   "source": []
  },
  {
   "cell_type": "code",
   "execution_count": null,
   "metadata": {},
   "outputs": [],
   "source": []
  },
  {
   "cell_type": "code",
   "execution_count": null,
   "metadata": {},
   "outputs": [],
   "source": []
  },
  {
   "cell_type": "code",
   "execution_count": null,
   "metadata": {},
   "outputs": [],
   "source": []
  },
  {
   "cell_type": "code",
   "execution_count": null,
   "metadata": {},
   "outputs": [],
   "source": []
  },
  {
   "cell_type": "code",
   "execution_count": null,
   "metadata": {},
   "outputs": [],
   "source": []
  },
  {
   "cell_type": "code",
   "execution_count": null,
   "metadata": {},
   "outputs": [],
   "source": []
  },
  {
   "cell_type": "code",
   "execution_count": null,
   "metadata": {},
   "outputs": [],
   "source": []
  },
  {
   "cell_type": "code",
   "execution_count": null,
   "metadata": {},
   "outputs": [],
   "source": []
  },
  {
   "cell_type": "code",
   "execution_count": null,
   "metadata": {},
   "outputs": [],
   "source": []
  }
 ],
 "metadata": {
  "kernelspec": {
   "display_name": "Python 3",
   "language": "python",
   "name": "python3"
  },
  "language_info": {
   "codemirror_mode": {
    "name": "ipython",
    "version": 3
   },
   "file_extension": ".py",
   "mimetype": "text/x-python",
   "name": "python",
   "nbconvert_exporter": "python",
   "pygments_lexer": "ipython3",
   "version": "3.8.8"
  },
  "vscode": {
   "interpreter": {
    "hash": "633d44ae14139ee402c122e6a7f6f3b709a2ac2064ed649104bda389c82a5c9e"
   }
  }
 },
 "nbformat": 4,
 "nbformat_minor": 2
}
